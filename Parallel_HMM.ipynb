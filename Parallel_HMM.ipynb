{
  "nbformat": 4,
  "nbformat_minor": 0,
  "metadata": {
    "colab": {
      "name": "Demo_HMM.ipynb",
      "provenance": [],
      "collapsed_sections": []
    },
    "kernelspec": {
      "name": "python3",
      "display_name": "Python 3"
    },
    "language_info": {
      "name": "python"
    }
  },
  "cells": [
    {
      "cell_type": "markdown",
      "source": [
        "#Define HMM and model's parameters\n",
        "Transition matrix:\n",
        "<table>\n",
        "  <tr>\n",
        "    <th></th>\n",
        "    <th>Rainy</th>\n",
        "    <th>Sunny</th>\n",
        "  </tr>\n",
        "  <tr>\n",
        "    <th>Rainy</th>\n",
        "    <td>0.7</td>\n",
        "    <td>0.3</td>\n",
        "  </tr>\n",
        "  <tr>\n",
        "    <th>Sunny</th>\n",
        "    <td>0.4</td>\n",
        "    <td>0.6</td>\n",
        "  </tr>\n",
        "</table>\n",
        "Observation matrix:\n",
        "<table>\n",
        "  <tr>\n",
        "    <th></th>\n",
        "    <th>walk</th>\n",
        "    <th>shop</th>\n",
        "    <th>clean</th>\n",
        "  </tr>\n",
        "  <tr>\n",
        "    <th>Rainy</th>\n",
        "    <td>0.1</td>\n",
        "    <td>0.4</td>\n",
        "    <td>0.5</td>\n",
        "  </tr>\n",
        "  <tr>\n",
        "    <th>Sunny</th>\n",
        "    <td>0.6</td>\n",
        "    <td>0.3</td>\n",
        "    <td>0.1</td>\n",
        "  </tr>\n",
        "</table>\n",
        "States = ('Rainy': 0, 'Sunny': 1)\n",
        "\n",
        "Observation sequence = ('walk': 0, 'shop': 1, 'clean': 2)\n",
        "\n",
        "Start probability = {'Rainy': 0.6, 'Sunny': 0.4}"
      ],
      "metadata": {
        "id": "ANtiuMeWq_NO"
      }
    },
    {
      "cell_type": "code",
      "execution_count": 1,
      "metadata": {
        "id": "2dj8O6ZeGggO"
      },
      "outputs": [],
      "source": [
        "import math\n",
        "import time\n",
        "from tqdm.auto import trange, tqdm\n",
        "import tensorflow as tf\n",
        "import tensorflow_probability as tfp\n",
        "import matplotlib.pyplot as plt\n",
        "import numpy as np\n",
        "\n",
        "class HMM:\n",
        "    def __init__(self):\n",
        "        self.transition_matrix = np.array([[0.7, 0.3],\n",
        "                                           [0.4, 0.6]]) \n",
        "        self.observation_matrix = np.array([[0.1, 0.4, 0.5], \n",
        "                                            [0.6, 0.3, 0.1]]) \n",
        "        self.prior = np.array([0.6, 0.4])\n",
        "        self.observation_sequence = np.array([0, 1, 2])\n",
        "        # #convert numpy array to tensor matrix\n",
        "        # self.tensor_transition_matrix = tf.convert_to_tensor(self.transition_matrix)\n",
        "        # self.tensor_observation_matrix = tf.convert_to_tensor(self.observation_matrix)\n",
        "        # self.tensor_prior = tf.convert_to_tensor(self.prior)"
      ]
    },
    {
      "cell_type": "markdown",
      "source": [
        "#Implement algorithm 1 in the paper"
      ],
      "metadata": {
        "id": "PMz19kUJtdf7"
      }
    },
    {
      "cell_type": "code",
      "source": [
        "#https://en.wikipedia.org/wiki/Forward%E2%80%93backward_algorithm\n",
        "#compute forward probabilities\n",
        "def potential_forward(model, Y):\n",
        "    fwd = np.zeros((Y.shape[0], model.transition_matrix.shape[1]))\n",
        "    #k = 1...T\n",
        "    for k in range(len(Y)):\n",
        "      if k == 0:\n",
        "          #ψ1(x1) = p(y1 | x1)p(x1)\n",
        "          #x1 ∼ p(x1) is a prior, xk ~ p(xk | xk−1) are transition probabilities, yk ∼ p(yk | xk) are observations\n",
        "          psi_f = model.observation_matrix[:, Y[k]] * model.prior #equation (5a), step 2 in algorithm 1\n",
        "      else:\n",
        "          #ψk(xk−1, xk) = p(yk | xk)p(xk | xk−1)\n",
        "          psi = model.observation_matrix[:, Y[k]] * model.transition_matrix #equation (5b), step 4 in algorithm 1\n",
        "          psi_f = psi_f @ psi\n",
        "      fwd[k] = psi_f\n",
        "    return fwd\n",
        "\n",
        "#compute backward probabilities\n",
        "def potential_backward(model, Y):\n",
        "    #psi_b = np.ones(psi_f.shape)\n",
        "    #bwd = fwd.copy()\n",
        "    psi_b = np.ones(model.prior.shape[0]) #step 7 in algorithm 1\n",
        "    bwd = np.zeros((Y.shape[0], model.transition_matrix.shape[1]))\n",
        "    bwd[-1] = psi_b\n",
        "    for k in reversed(range(len(Y) - 1)):\n",
        "        psi = model.observation_matrix[:, Y[k+1]] * model.transition_matrix #step 9 in algorithm 1\n",
        "        psi_b = psi @ psi_b\n",
        "        bwd[k] = psi_b\n",
        "    return bwd\n",
        "\n",
        "#compute posterior values\n",
        "def potential_smoother(model, Y):\n",
        "    psi_f = potential_forward(model, Y)\n",
        "    psi_b = potential_backward(model, Y)\n",
        "    posterior = []\n",
        "    for f, b in zip(psi_f, psi_b):\n",
        "      posterior.append((f*b)/np.sum(f*b))\n",
        "    return posterior\n",
        "\n",
        "fwd_bwd_psi_f = potential_forward(HMM(), HMM().observation_sequence)\n",
        "fwd_bwd_psi_b = potential_backward(HMM(), HMM().observation_sequence)\n",
        "fwd_bwd_psi = potential_smoother(HMM(), HMM().observation_sequence)\n",
        "print('Forward')\n",
        "print('Rain:', [fwd_bwd_psi_f[i][0] for i in range(len(fwd_bwd_psi_f))])\n",
        "print('No rain:', [fwd_bwd_psi_f[i][1] for i in range(len(fwd_bwd_psi_f))])\n",
        "print('\\nBackward')\n",
        "print('Rain:', [fwd_bwd_psi_b[i][0] for i in range(len(fwd_bwd_psi_b))])\n",
        "print('No rain:', [fwd_bwd_psi_b[i][1] for i in range(len(fwd_bwd_psi_b))])\n",
        "print('\\nPosterior')\n",
        "print('Rain:', [fwd_bwd_psi[i][0] for i in range(len(fwd_bwd_psi))])\n",
        "print('No rain:', [fwd_bwd_psi[i][1] for i in range(len(fwd_bwd_psi))])"
      ],
      "metadata": {
        "id": "8Wn2sFU67vp8",
        "colab": {
          "base_uri": "https://localhost:8080/"
        },
        "outputId": "dc3abe45-347e-4edc-d020-cd876a8c667a"
      },
      "execution_count": 2,
      "outputs": [
        {
          "output_type": "stream",
          "name": "stdout",
          "text": [
            "Forward\n",
            "Rain: [0.06, 0.0552, 0.029039999999999996]\n",
            "No rain: [0.24, 0.0486, 0.004572]\n",
            "\n",
            "Backward\n",
            "Rain: [0.1298, 0.38, 1.0]\n",
            "No rain: [0.10760000000000002, 0.26, 1.0]\n",
            "\n",
            "Posterior\n",
            "Rain: [0.23170296322741876, 0.6240628347018922, 0.8639771510174937]\n",
            "No rain: [0.7682970367725812, 0.3759371652981078, 0.13602284898250624]\n"
          ]
        }
      ]
    },
    {
      "cell_type": "markdown",
      "source": [
        "#Implement tf-based algorithm 1 in the paper"
      ],
      "metadata": {
        "id": "PyQXZZB9UQ47"
      }
    },
    {
      "cell_type": "code",
      "source": [
        "#compute forward probabilities\n",
        "def potential_forward_pass(model, observation_sequence):\n",
        "  def forward_scan(carry, y):\n",
        "      #carry is (0, HMM().prior), y is the iteration\n",
        "      k, p = carry \n",
        "      if k == 0:\n",
        "        p = model.observation_matrix[:, y] * p\n",
        "      else:\n",
        "        psi = model.observation_matrix[:, y] * model.transition_matrix\n",
        "        p = np.matmul(p, psi)\n",
        "      return k+1, p\n",
        "  k, psi_f = tf.scan(forward_scan, observation_sequence, (0, model.prior), swap_memory=True)\n",
        "  return psi_f\n",
        "\n",
        "#compute backward probabilities\n",
        "def potential_backward_pass(model, observation_sequence):\n",
        "  def backward_scan(carry, y):\n",
        "      #carry is psi_b_end\n",
        "      p = carry\n",
        "      psi = model.observation_matrix[:, y] * model.transition_matrix \n",
        "      p = np.matmul(psi, p)\n",
        "      return p\n",
        "  psi_b_end = np.ones(model.prior.shape[0])\n",
        "  psi_b_rest = tf.scan(backward_scan, observation_sequence[1:], psi_b_end, reverse=True, swap_memory=True)\n",
        "  psi_b = tf.concat([psi_b_rest, tf.expand_dims(psi_b_end, 0)], 0)\n",
        "  return psi_b\n",
        "\n",
        "#compute posterior values\n",
        "def potential_smoother(model, observation_sequence):\n",
        "    psi_f = potential_forward_pass(model, observation_sequence)\n",
        "    psi_b = potential_backward_pass(model, observation_sequence)\n",
        "    return (psi_f*psi_b)/tf.reduce_sum(psi_f*psi_b, axis=-1, keepdims=True)\n",
        "\n",
        "psi_f = potential_forward_pass(HMM(), HMM().observation_sequence)\n",
        "psi_b = potential_backward_pass(HMM(), HMM().observation_sequence)\n",
        "potential_ss = potential_smoother(HMM(), HMM().observation_sequence)\n",
        "tf.print('Forward')\n",
        "tf.print('Rain:', [psi_f[i][0] for i in range(len(psi_f))])\n",
        "tf.print('No rain:', [psi_f[i][1] for i in range(len(psi_f))])\n",
        "tf.print('\\nBackward')\n",
        "tf.print('Rain:', [psi_b[i][0] for i in range(len(psi_b))])\n",
        "tf.print('No rain:', [psi_b[i][1] for i in range(len(psi_b))])\n",
        "tf.print('\\nPosterior')\n",
        "tf.print('Rain:', [potential_ss[i][0] for i in range(len(potential_ss))])\n",
        "tf.print('No rain:', [potential_ss[i][1] for i in range(len(potential_ss))])"
      ],
      "metadata": {
        "colab": {
          "base_uri": "https://localhost:8080/"
        },
        "id": "HZbKRkQ9fsQB",
        "outputId": "4350dc75-b8d1-4584-9c99-126f2323f93f"
      },
      "execution_count": 3,
      "outputs": [
        {
          "output_type": "stream",
          "name": "stdout",
          "text": [
            "Forward\n",
            "Rain: [0.06, 0.0552, 0.029039999999999996]\n",
            "No rain: [0.24, 0.0486, 0.004572]\n",
            "\n",
            "Backward\n",
            "Rain: [0.1298, 0.38, 1]\n",
            "No rain: [0.10760000000000002, 0.26, 1]\n",
            "\n",
            "Posterior\n",
            "Rain: [0.23170296322741876, 0.62406283470189217, 0.86397715101749373]\n",
            "No rain: [0.76829703677258121, 0.37593716529810778, 0.13602284898250624]\n"
          ]
        }
      ]
    },
    {
      "cell_type": "code",
      "source": [
        "print('Difference between forward pass of tf-based and classical:', np.abs(psi_f - fwd_bwd_psi_f).max())\n",
        "print('Difference between backward pass of tf-based and classical:', np.abs(psi_b - fwd_bwd_psi_b).max())\n",
        "print('Difference between smoothing pass of tf-based and classical:', np.abs(potential_ss - fwd_bwd_psi).max())"
      ],
      "metadata": {
        "colab": {
          "base_uri": "https://localhost:8080/"
        },
        "id": "hSaHsGs0jN7n",
        "outputId": "fe1bba6b-53f2-43e1-c098-80374968435b"
      },
      "execution_count": 4,
      "outputs": [
        {
          "output_type": "stream",
          "name": "stdout",
          "text": [
            "Difference between forward pass of tf-based and classical: 0.0\n",
            "Difference between backward pass of tf-based and classical: 0.0\n",
            "Difference between smoothing pass of tf-based and classical: 0.0\n"
          ]
        }
      ]
    },
    {
      "cell_type": "markdown",
      "source": [
        "#Generate data"
      ],
      "metadata": {
        "id": "NvX3QsVE1PUI"
      }
    },
    {
      "cell_type": "code",
      "source": [
        "def catrnd(rng, p):\n",
        "    if p.ndim > 1: p = p.squeeze()\n",
        "    return rng.choice(p.shape[0], size=1,  p=p) \n",
        "\n",
        "#X: array of unobserved states, Y: array of observed states\n",
        "def simulate_data(model, steps, seed=1):\n",
        "    rng = np.random.default_rng(seed)\n",
        "    X = np.zeros((steps, 1))\n",
        "    Y = np.zeros(steps, dtype=np.int32)\n",
        "    x = catrnd(rng, model.prior)\n",
        "    for k in range(steps):\n",
        "        if k > 0:\n",
        "            x = catrnd(rng, model.transition_matrix[x]) #min: 0.0, max: 1.0\n",
        "        y = catrnd(rng, model.observation_matrix[x]) #min: 0.0, max: 2.0\n",
        "        X[k] = x\n",
        "        Y[k] = y\n",
        "    return X, Y"
      ],
      "metadata": {
        "id": "Wa2s6UNbmHUf"
      },
      "execution_count": 6,
      "outputs": []
    },
    {
      "cell_type": "markdown",
      "source": [
        "#Compare unobserved states from generated data with guess states from HMM"
      ],
      "metadata": {
        "id": "d8RvFpcyDiRm"
      }
    },
    {
      "cell_type": "code",
      "source": [
        "cmp_true_states, cmp_obs_states = simulate_data(model=HMM(), steps=20)\n",
        "cmp_psi = potential_smoother(HMM(), cmp_obs_states)\n",
        "\n",
        "res_obs = []\n",
        "for i in range(len(cmp_psi)):\n",
        "    if cmp_psi[i][0] > cmp_psi[i][1]:\n",
        "      res_obs.append(0) #rain\n",
        "    else: \n",
        "      res_obs.append(1) #sunny\n",
        "\n",
        "convert_true_states = sum(cmp_true_states.tolist(), [])\n",
        "convert_true_states = [int(x) for x in convert_true_states]\n",
        "\n",
        "plt.figure(figsize=(8, 3))\n",
        "plt.plot(convert_true_states, '-o', alpha=0.7)\n",
        "plt.plot(res_obs, '-o', alpha=0.7)\n",
        "plt.legend(('True State','Guessed State'), loc = 'right')\n",
        "plt.ylim(-0.1, 1.1)\n",
        "plt.xlabel('Length of the sequence(T)')\n",
        "plt.ylabel('Rain vs Sunny')\n",
        "plt.draw()"
      ],
      "metadata": {
        "colab": {
          "base_uri": "https://localhost:8080/",
          "height": 225
        },
        "id": "7Tjx6TRO6pvF",
        "outputId": "ed21e7ab-ee42-4804-9a7e-ddd701d75feb"
      },
      "execution_count": 7,
      "outputs": [
        {
          "output_type": "display_data",
          "data": {
            "text/plain": [
              "<Figure size 576x216 with 1 Axes>"
            ],
            "image/png": "[encoded data removed]"
          },
          "metadata": {
            "needs_background": "light"
          }
        }
      ]
    },
    {
      "cell_type": "markdown",
      "source": [
        "#Implement algorithm 2 in the paper"
      ],
      "metadata": {
        "id": "777_SNCoQWf0"
      }
    },
    {
      "cell_type": "code",
      "source": [
        "!pip install --upgrade tbb"
      ],
      "metadata": {
        "id": "Wc4RjvGcQWNh"
      },
      "execution_count": null,
      "outputs": []
    },
    {
      "cell_type": "code",
      "source": [
        "import numba\n",
        "\n",
        "#https://cs.wmich.edu/gupta/teaching/cs5260/5260Sp15web/lectureNotes/thm14%20-%20parallel%20prefix%20from%20Ottman.pdf\n",
        "#if >= 2d array, final prefix sum = up sweep pass\n",
        "@numba.jit(nopython=True, parallel=True)\n",
        "def numba_prefix_sum(arr, iteration, shape_arr, log_n):\n",
        "    #save the input\n",
        "    bi = np.copy(arr)\n",
        "    #up sweep\n",
        "    for d in range(log_n):\n",
        "        for i in range(0, iteration, 2**(d + 1)):\n",
        "            #bi[i + 2**(d + 1) - 1] = bi[i + 2**d - 1] + bi[i + 2**(d + 1) - 1]\n",
        "            bi[i + 2**(d + 1) - 1] += bi[i + 2**d - 1]\n",
        "    bi[iteration - 1] = 0\n",
        "    #down sweep\n",
        "    for d in range(log_n - 1, -1, -1):\n",
        "        for i in range(0, iteration, 2**(d + 1)):\n",
        "            temp = bi[i + 2**d - 1]\n",
        "            bi[i + 2**d - 1] = bi[i + 2**(d + 1) - 1] #left child\n",
        "            bi[i + 2**(d + 1) - 1] = temp + bi[i + 2**(d + 1) - 1] #right child \n",
        "    #final pass\n",
        "    bi += arr\n",
        "    return bi\n",
        "\n",
        "def sequential_prefix_sum(arr):\n",
        "    if type(arr) == 'list':\n",
        "        arr = np.array(arr)\n",
        "    for i in range(len(arr) - 1):\n",
        "        arr[i + 1] += arr[i]\n",
        "    return arr"
      ],
      "metadata": {
        "id": "JbZgqRv4QkUs"
      },
      "execution_count": 10,
      "outputs": []
    },
    {
      "cell_type": "code",
      "source": [
        "from time import time\n",
        "\n",
        "time_squential_prefix_sum = []\n",
        "time_parallel_prefix_sum = []\n",
        "\n",
        "for i in list(range(1, 24)):\n",
        "    seq_list = np.random.randint(100, size=pow(2, i))\n",
        "    input_arr_parallel = np.array(seq_list)\n",
        "    iter = input_arr_parallel.shape[0]\n",
        "    shape_arr_parallel = input_arr_parallel.shape\n",
        "    log_n_parallel = np.log2(iter).astype(int)\n",
        "\n",
        "    t = time()\n",
        "    seq_list = sequential_prefix_sum(seq_list)\n",
        "    t_new = time() - t\n",
        "    time_squential_prefix_sum.append(t_new)\n",
        "\n",
        "    t = time()\n",
        "    par_list = numba_prefix_sum(input_arr_parallel, iter, shape_arr_parallel, log_n_parallel)\n",
        "    t_new = time() - t\n",
        "    time_parallel_prefix_sum.append(t_new)\n",
        "\n",
        "plt.plot(list(range(1, 24)), time_squential_prefix_sum)\n",
        "plt.plot(list(range(1, 24)), time_parallel_prefix_sum)\n",
        "plt.xlabel('Degree(2^n)')\n",
        "plt.ylabel('Time(s)')\n",
        "plt.legend(['Sequential prefix sum','Parallel prefix sum'])\n",
        "#plt.savefig(\"cmp_time_prefix_sum.svg\")\n",
        "plt.show()"
      ],
      "metadata": {
        "colab": {
          "base_uri": "https://localhost:8080/",
          "height": 279
        },
        "id": "qZ0-j9LJQ8zq",
        "outputId": "e2b115a2-1bfe-4c3f-8a27-973e8685c1a5"
      },
      "execution_count": 12,
      "outputs": [
        {
          "output_type": "display_data",
          "data": {
            "text/plain": [
              "<Figure size 432x288 with 1 Axes>"
            ],
            "image/png": "[encoded data removed]"
          },
          "metadata": {
            "needs_background": "light"
          }
        }
      ]
    },
    {
      "cell_type": "markdown",
      "source": [
        "#Implement algorithm 3 in the paper"
      ],
      "metadata": {
        "id": "79uMduKppBhw"
      }
    },
    {
      "cell_type": "code",
      "source": [
        "#parallel forward pass\n",
        "def parallel_forward_potential_init_first(model, y):\n",
        "    psi = tf.multiply(model.observation_matrix[:, y], model.prior)\n",
        "    psi = tf.tile(tf.expand_dims(psi, axis=0), [model.prior.shape[0], 1])\n",
        "    return psi\n",
        "\n",
        "def parallel_forward_potential_init_rest(model, y):\n",
        "    tmp = tf.gather(tf.transpose(model.observation_matrix), y, axis=0) #get all rows of observation_matrix with y index\n",
        "    psi = tf.expand_dims(tmp, 1) * tf.expand_dims(model.transition_matrix, 0) #step 2 in algo 4\n",
        "    return psi\n",
        "\n",
        "def parallel_forward_potential_init(model, y):\n",
        "    first_elem = parallel_forward_potential_init_first(model, y[0]) #case k = 0\n",
        "    rest_elems = parallel_forward_potential_init_rest(model, y[1:]) #case k > 0\n",
        "    a0k = tf.concat([tf.expand_dims(first_elem, 0), rest_elems], axis=0) #concat a0:1 vs ak-1:k to get a0k\n",
        "    return a0k\n",
        "\n",
        "def parallel_forward_potential(model, y, max_parallel=100000):\n",
        "    a0k = parallel_forward_potential_init(model, y) \n",
        "    psi = tfp.math.scan_associative(lambda aij, ajk: aij @ ajk, a0k, max_num_levels=math.ceil(math.log2(max_parallel))) #step 4 in algo 4\n",
        "    return psi[:, 0]\n",
        "\n",
        "'''\n",
        "def sequential_prefix_sum(operator_parallel, arr):\n",
        "    size_arr = len(arr) - 1\n",
        "    if type(arr) == 'list':\n",
        "        arr = np.array(arr)\n",
        "    if operator_parallel == '@':\n",
        "      for i in range(len(arr)-1):\n",
        "          arr[i - size_arr] = arr[i] @ arr[i - size_arr]\n",
        "    else:\n",
        "      for i in range(len(arr)-1):\n",
        "          arr[i + 1] += arr[i]\n",
        "    return arr\n",
        "\n",
        "sequential_prefix_sum('@', np.array(parallel_forward_potential_init(HMM(), HMM().observation_sequence)))[:, 0]\n",
        "'''\n",
        "\n",
        "parallel_forward_potential(HMM(), HMM().observation_sequence)"
      ],
      "metadata": {
        "id": "4oe3j9BTpCYM",
        "colab": {
          "base_uri": "https://localhost:8080/"
        },
        "outputId": "12854e5d-122f-490a-818f-45d628fdddcd"
      },
      "execution_count": 13,
      "outputs": [
        {
          "output_type": "execute_result",
          "data": {
            "text/plain": [
              "<tf.Tensor: shape=(3, 2), dtype=float64, numpy=\n",
              "array([[0.06    , 0.24    ],\n",
              "       [0.0552  , 0.0486  ],\n",
              "       [0.02904 , 0.004572]])>"
            ]
          },
          "metadata": {},
          "execution_count": 13
        }
      ]
    },
    {
      "cell_type": "code",
      "source": [
        "#parallel backward pass\n",
        "def parallel_backward_potential_init_last(model):\n",
        "    psi = tf.ones_like(model.transition_matrix) #step 7 in algorithm 1\n",
        "    return psi\n",
        "\n",
        "def parallel_backward_potential_init_rest(model, y):\n",
        "    tmp = tf.gather(tf.transpose(model.observation_matrix), y, axis=0) #get all rows of observation_matrix with y index\n",
        "    psi = tf.expand_dims(tmp, 1) * tf.expand_dims(model.transition_matrix, 0) #step 9 in algorithm 1\n",
        "    return psi\n",
        "\n",
        "def parallel_backward_potential_init(model, y):\n",
        "    last_elem = parallel_backward_potential_init_last(model)\n",
        "    rest_elems = parallel_backward_potential_init_rest(model, y[1:])\n",
        "    akT = tf.concat([rest_elems, tf.expand_dims(last_elem, 0)], axis=0) \n",
        "    return akT\n",
        "\n",
        "def parallel_backward_potential(model, y,  max_parallel=100000):\n",
        "    initial_elements = parallel_backward_potential_init(model, y)\n",
        "    reversed_elements = tf.reverse(initial_elements, axis=[0])\n",
        "    #last_elem = rest_elems @ last_elem -> ajk @ aij because rest_elems concat last_elem\n",
        "    final_elements = tfp.math.scan_associative(lambda aij, ajk: ajk @ aij, reversed_elements, max_num_levels=math.ceil(math.log2(max_parallel)))\n",
        "    final_elements = tf.reverse(final_elements, axis=[0])\n",
        "    return final_elements[:, :, 0]\n",
        "parallel_backward_potential(HMM(), HMM().observation_sequence)"
      ],
      "metadata": {
        "colab": {
          "base_uri": "https://localhost:8080/"
        },
        "id": "AOSgC79E3SkM",
        "outputId": "6d5a6210-2714-4ae7-9665-812fca02ad38"
      },
      "execution_count": 14,
      "outputs": [
        {
          "output_type": "execute_result",
          "data": {
            "text/plain": [
              "<tf.Tensor: shape=(3, 2), dtype=float64, numpy=\n",
              "array([[0.1298, 0.1076],\n",
              "       [0.38  , 0.26  ],\n",
              "       [1.    , 1.    ]])>"
            ]
          },
          "metadata": {},
          "execution_count": 14
        }
      ]
    },
    {
      "cell_type": "code",
      "source": [
        "#parallel forward-backward\n",
        "def parallel_potential_smoother(model, y, max_parallel=100000):\n",
        "    psi_f = parallel_forward_potential(model, y, max_parallel)\n",
        "    psi_b = parallel_backward_potential(model, y, max_parallel)\n",
        "    return (psi_f*psi_b)/tf.reduce_sum(psi_f*psi_b, axis=1, keepdims=True) #equation (22)\n",
        "parallel_potential_smoother(HMM(), HMM().observation_sequence)"
      ],
      "metadata": {
        "colab": {
          "base_uri": "https://localhost:8080/"
        },
        "id": "d_0gyhUNP9Wm",
        "outputId": "e4baf1f4-e0f4-45c0-91b5-bb3a9f33345c"
      },
      "execution_count": 15,
      "outputs": [
        {
          "output_type": "execute_result",
          "data": {
            "text/plain": [
              "<tf.Tensor: shape=(3, 2), dtype=float64, numpy=\n",
              "array([[0.23170296, 0.76829704],\n",
              "       [0.62406283, 0.37593717],\n",
              "       [0.86397715, 0.13602285]])>"
            ]
          },
          "metadata": {},
          "execution_count": 15
        }
      ]
    },
    {
      "cell_type": "code",
      "source": [
        "with tf.device('/CPU:0'):\n",
        "    psi_f = parallel_forward_potential(HMM(), HMM().observation_sequence, max_parallel=100000)\n",
        "    print('Difference between classical and parallel forward potentials:', np.abs(psi_f - fwd_bwd_psi_f).max())\n",
        "    psi_b = parallel_backward_potential(HMM(), HMM().observation_sequence, max_parallel=100000)\n",
        "    print('Difference between classical and parallel backward potentials:', np.abs(psi_b - fwd_bwd_psi_b).max())\n",
        "    potential_ss = parallel_potential_smoother(HMM(), HMM().observation_sequence, max_parallel=100000)\n",
        "    print('Difference between classical and parallel smoothers:', np.abs(potential_ss - fwd_bwd_psi).max())"
      ],
      "metadata": {
        "colab": {
          "base_uri": "https://localhost:8080/"
        },
        "id": "TwPEeAFzQWoD",
        "outputId": "d780a4b2-aa78-477d-855b-e91766c1655b"
      },
      "execution_count": 16,
      "outputs": [
        {
          "output_type": "stream",
          "name": "stdout",
          "text": [
            "Difference between classical and parallel forward potentials: 6.938893903907228e-18\n",
            "Difference between classical and parallel backward potentials: 0.0\n",
            "Difference between classical and parallel smoothers: 1.1102230246251565e-16\n"
          ]
        }
      ]
    },
    {
      "cell_type": "markdown",
      "source": [
        "#Run algorithm 3 with the example in the slide"
      ],
      "metadata": {
        "id": "pPKeB-pe0-Vc"
      }
    },
    {
      "cell_type": "code",
      "source": [
        "class HMM_example_algo3:\n",
        "    def __init__(self):\n",
        "        self.transition_matrix = np.array([[0.65, 0.35],\n",
        "                                           [0.75, 0.25]]) \n",
        "        self.observation_matrix = np.array([[0.2, 0.8], \n",
        "                                            [0.3, 0.7]]) \n",
        "        self.prior = np.array([0.5, 0.5])\n",
        "        self.observation_sequence = np.array([0, 1])\n",
        "print('Forward pass:', parallel_forward_potential(HMM_example_algo3(), HMM_example_algo3().observation_sequence, max_parallel=100000))\n",
        "print('Backward pass:', parallel_backward_potential(HMM_example_algo3(), HMM_example_algo3().observation_sequence, max_parallel=100000))\n",
        "print('Potential smoother:', parallel_potential_smoother(HMM_example_algo3(), HMM_example_algo3().observation_sequence))"
      ],
      "metadata": {
        "colab": {
          "base_uri": "https://localhost:8080/"
        },
        "id": "7NN5mqS409-W",
        "outputId": "0a12e8b1-f752-47d5-c2e3-abcab70e22ab"
      },
      "execution_count": 17,
      "outputs": [
        {
          "output_type": "stream",
          "name": "stdout",
          "text": [
            "Forward pass: tf.Tensor(\n",
            "[[0.1     0.15   ]\n",
            " [0.142   0.05075]], shape=(2, 2), dtype=float64)\n",
            "Backward pass: tf.Tensor(\n",
            "[[0.765 0.775]\n",
            " [1.    1.   ]], shape=(2, 2), dtype=float64)\n",
            "Potential smoother: tf.Tensor(\n",
            "[[0.39688716 0.60311284]\n",
            " [0.73670558 0.26329442]], shape=(2, 2), dtype=float64)\n"
          ]
        }
      ]
    },
    {
      "cell_type": "markdown",
      "source": [
        "#Compare time between parallel algorithm 3 and classical algorithm 1"
      ],
      "metadata": {
        "id": "RzCU04lfRfkD"
      }
    },
    {
      "cell_type": "code",
      "source": [
        "import matplotlib.pyplot as plt\n",
        "from time import time\n",
        "\n",
        "time_classical_algo1 = []\n",
        "time_parallel_algo3 = []\n",
        "for i in list(range(1, 6)):\n",
        "    un_obs_arr, obs_arr = simulate_data(model=HMM(), steps=10**i)\n",
        "    #time classical algo 1\n",
        "    t = time()\n",
        "    tmp1 = potential_forward(HMM(), obs_arr)\n",
        "    tmp2 = potential_backward(HMM(), obs_arr)\n",
        "    tmp3 = potential_smoother(HMM(), obs_arr)\n",
        "    t_new = time() - t\n",
        "    time_classical_algo1.append(t_new)\n",
        "    #time parallel algo 3\n",
        "    t = time()\n",
        "    tmp4 = parallel_forward_potential(HMM(), obs_arr)\n",
        "    tmp5 = parallel_backward_potential(HMM(), obs_arr)\n",
        "    tmp6 = parallel_potential_smoother(HMM(), obs_arr)\n",
        "    t_new = time() - t\n",
        "    time_parallel_algo3.append(t_new)\n",
        "    #compare res\n",
        "    print('Iter', i)\n",
        "    print('Compare forward of classical algo 1 and parallel algo 3:', np.abs(tmp1-tmp4).max())\n",
        "    print('Compare backward of classical algo 1 and parallel algo 3:', np.abs(tmp2-tmp5).max())\n",
        "    print('Compare posterior of classical algo 1 and parallel algo 3:', np.abs(tmp3-tmp6).max())\n",
        "\n",
        "plt.plot(list(range(1, 6)), time_classical_algo1)\n",
        "plt.plot(list(range(1, 6)), time_parallel_algo3)\n",
        "plt.xlabel('Length of the sequence(T)')\n",
        "plt.ylabel('Time(s)')\n",
        "plt.legend(['Classical algorithm 1','Parallel algorithm 3'])\n",
        "plt.show()"
      ],
      "metadata": {
        "colab": {
          "base_uri": "https://localhost:8080/",
          "height": 626
        },
        "id": "7oTFeZCURfOR",
        "outputId": "f716cd88-7c80-44f2-e570-fc2a3e9a2644"
      },
      "execution_count": 19,
      "outputs": [
        {
          "output_type": "stream",
          "name": "stdout",
          "text": [
            "Iter 1\n",
            "Compare forward of classical algo 1 and parallel algo 3: 4.336808689942018e-19\n",
            "Compare backward of classical algo 1 and parallel algo 3: 8.673617379884035e-19\n",
            "Compare posterior of classical algo 1 and parallel algo 3: 1.1102230246251565e-16\n",
            "Iter 2\n",
            "Compare forward of classical algo 1 and parallel algo 3: 4.336808689942018e-19\n",
            "Compare backward of classical algo 1 and parallel algo 3: 8.673617379884035e-19\n",
            "Compare posterior of classical algo 1 and parallel algo 3: 2.220446049250313e-16\n",
            "Iter 3\n",
            "Compare forward of classical algo 1 and parallel algo 3: 4.336808689942018e-19\n",
            "Compare backward of classical algo 1 and parallel algo 3: 1.3877787807814457e-17\n",
            "Compare posterior of classical algo 1 and parallel algo 3: nan\n",
            "Iter 4\n",
            "Compare forward of classical algo 1 and parallel algo 3: 4.336808689942018e-19\n",
            "Compare backward of classical algo 1 and parallel algo 3: 6.938893903907228e-18\n",
            "Compare posterior of classical algo 1 and parallel algo 3: nan\n",
            "Iter 5\n",
            "Compare forward of classical algo 1 and parallel algo 3: 4.336808689942018e-19\n",
            "Compare backward of classical algo 1 and parallel algo 3: 6.938893903907228e-18\n",
            "Compare posterior of classical algo 1 and parallel algo 3: nan\n"
          ]
        },
        {
          "output_type": "display_data",
          "data": {
            "text/plain": [
              "<Figure size 432x288 with 1 Axes>"
            ],
            "image/png": "[encoded data removed]"
          },
          "metadata": {
            "needs_background": "light"
          }
        }
      ]
    },
    {
      "cell_type": "markdown",
      "source": [
        "#Implement algorithm 4 in the paper"
      ],
      "metadata": {
        "id": "hJRAAzmsTzsw"
      }
    },
    {
      "cell_type": "code",
      "source": [
        "def classical_viterbi(model, y):\n",
        "    \"\"\"\n",
        "    Parameters\n",
        "    ----------\n",
        "    xmap: MAP path\n",
        "    V_list: probabilities of most probable paths\n",
        "    u_list: most probable path sequence\n",
        "    \"\"\"\n",
        "    V_list = np.zeros((model.transition_matrix.shape[0], len(y)))\n",
        "    u_list = np.zeros((model.transition_matrix.shape[0], len(y)))\n",
        "    #forward step\n",
        "    V_list[:, 0] =  model.observation_matrix[:, y[0]] * model.prior #k = 1 -> V1(x1) = ψ1(x1), equation (28) and step 2 in algo 4\n",
        "    u_list[:, 0] = 0\n",
        "    for k in range(1, len(y)):\n",
        "        psi = model.observation_matrix[np.newaxis, :, y[k]].T * model.transition_matrix.T\n",
        "        V_list[:, k] = np.max(V_list[:, k - 1] * psi, 1)\n",
        "        u_list[:, k] = np.argmax(V_list[:, k - 1] * model.transition_matrix.T, 1)\n",
        "    V_list = V_list.T\n",
        "    u_list = u_list.T\n",
        "    xmap = np.zeros(len(y), dtype=int)\n",
        "    xmap[-1] = np.argmax(V_list[-1])\n",
        "    #backward step\n",
        "    for k in reversed(range(len(y) - 1)):\n",
        "        xmap[k] = u_list[k + 1, xmap[k + 1]]\n",
        "    return xmap, V_list, u_list\n",
        "xmap, v_list, u_list = classical_viterbi(HMM(), HMM().observation_sequence)\n",
        "print(str(xmap) + '\\n')\n",
        "print(str(v_list) + '\\n')\n",
        "print(u_list)"
      ],
      "metadata": {
        "colab": {
          "base_uri": "https://localhost:8080/"
        },
        "id": "Iyc5e0dnbt_L",
        "outputId": "f3dd1297-2cf5-45fc-ad0e-0ec8eac297c5"
      },
      "execution_count": 20,
      "outputs": [
        {
          "output_type": "stream",
          "name": "stdout",
          "text": [
            "[1 0 0]\n",
            "\n",
            "[[0.06     0.24    ]\n",
            " [0.0384   0.0432  ]\n",
            " [0.01344  0.002592]]\n",
            "\n",
            "[[0. 0.]\n",
            " [1. 1.]\n",
            " [0. 1.]]\n"
          ]
        }
      ]
    },
    {
      "cell_type": "markdown",
      "source": [
        "#Run algorithm 4 with the example in the slide"
      ],
      "metadata": {
        "id": "pUF1pvSG23gZ"
      }
    },
    {
      "cell_type": "code",
      "source": [
        "class HMM_example_algo4:\n",
        "    def __init__(self):\n",
        "        self.transition_matrix = np.array([[0.6, 0.4],\n",
        "                                           [0.8, 0.2]]) \n",
        "        self.observation_matrix = np.array([[0.9, 0.1], \n",
        "                                            [0.3, 0.7]]) \n",
        "        self.prior = np.array([0.5, 0.5])\n",
        "        self.observation_sequence = np.array([0, 1])\n",
        "xmap_example_algo4, v_list_example_algo4, u_list_example_algo4 = classical_viterbi(HMM_example_algo4(), HMM_example_algo4().observation_sequence)\n",
        "print(str(xmap_example_algo4) + '\\n')\n",
        "print(str(v_list_example_algo4) + '\\n')\n",
        "print(u_list_example_algo4)"
      ],
      "metadata": {
        "colab": {
          "base_uri": "https://localhost:8080/"
        },
        "id": "uo_cf6b923OJ",
        "outputId": "bb8731b2-0271-440a-8ddf-72a1b349ce6e"
      },
      "execution_count": 21,
      "outputs": [
        {
          "output_type": "stream",
          "name": "stdout",
          "text": [
            "[0 1]\n",
            "\n",
            "[[0.45  0.15 ]\n",
            " [0.027 0.126]]\n",
            "\n",
            "[[0. 0.]\n",
            " [0. 0.]]\n"
          ]
        }
      ]
    },
    {
      "cell_type": "markdown",
      "source": [
        "#Compare algorithm 4 with generated data"
      ],
      "metadata": {
        "id": "sSIcr84LqxpK"
      }
    },
    {
      "cell_type": "code",
      "source": [
        "X_algo4, Y_algo4 = simulate_data(model=HMM(), steps=30)\n",
        "classical_xmap, classical_V_list, classical_u_list = classical_viterbi(HMM(), Y_algo4)"
      ],
      "metadata": {
        "id": "JnUI6dryuOcu"
      },
      "execution_count": 22,
      "outputs": []
    },
    {
      "cell_type": "code",
      "source": [
        "plt.figure(figsize=(8, 3))\n",
        "plt.plot(X_algo4, '-o', alpha=0.7)\n",
        "plt.plot(classical_xmap, '-o', alpha=0.7)\n",
        "plt.legend(('True State','Guessed State'), loc = 'right')\n",
        "plt.ylim(-0.1, 1.1)\n",
        "plt.xlabel('Length of the sequence(T)')\n",
        "plt.ylabel('States')\n",
        "plt.draw()"
      ],
      "metadata": {
        "colab": {
          "base_uri": "https://localhost:8080/",
          "height": 225
        },
        "id": "8ZpSa5KMuNdE",
        "outputId": "3ffa4034-1d2f-403f-a03f-d15816b27716"
      },
      "execution_count": 23,
      "outputs": [
        {
          "output_type": "display_data",
          "data": {
            "text/plain": [
              "<Figure size 576x216 with 1 Axes>"
            ],
            "image/png": "[encoded data removed]"
          },
          "metadata": {
            "needs_background": "light"
          }
        }
      ]
    },
    {
      "cell_type": "markdown",
      "source": [
        "#Implement parallel algorithm 5 in the paper"
      ],
      "metadata": {
        "id": "uoKf_9Jkq106"
      }
    },
    {
      "cell_type": "code",
      "source": [
        "#parallel backward viterbi \n",
        "def parallel_forward_viterbi_init_first(model, y):\n",
        "    psi = tf.multiply(model.observation_matrix[:, y], model.prior)\n",
        "    psi = tf.tile(tf.expand_dims(psi, axis=0), [model.prior.shape[0], 1])\n",
        "    return psi\n",
        "\n",
        "def parallel_forward_viterbi_init_rest(model, y):\n",
        "    tmp = tf.gather(tf.transpose(model.observation_matrix), y, axis=0) #get all rows of observation_matrix with y index\n",
        "    psi = tf.expand_dims(tmp, 1) * tf.expand_dims(model.transition_matrix, 0) #step 2 in algo 4\n",
        "    return psi\n",
        "\n",
        "def parallel_forward_viterbi_init(model, y):\n",
        "    first_elem = parallel_forward_viterbi_init_first(model, y[0]) #case k = 0\n",
        "    rest_elems = parallel_forward_viterbi_init_rest(model, y[1:]) #case k > 0\n",
        "    a0k = tf.concat([tf.expand_dims(first_elem, 0), rest_elems], axis=0) #concat a0:1 vs ak-1:k to get a0k\n",
        "    return a0k\n",
        "\n",
        "def parallel_forward_viterbi(model, y, max_parallel=100000):\n",
        "    a0k = parallel_forward_viterbi_init(model, y) \n",
        "    #step 4 in algo 4 and equation (42)\n",
        "    psi = tfp.math.scan_associative(lambda aij, ajk: tf.reduce_max(tf.expand_dims(aij, -1) * tf.expand_dims(ajk, 1), axis=2), a0k, max_num_levels=math.ceil(math.log2(max_parallel))) \n",
        "    return psi[:, 0]\n",
        "\n",
        "tf.print(parallel_forward_viterbi(HMM(), HMM().observation_sequence))"
      ],
      "metadata": {
        "colab": {
          "base_uri": "https://localhost:8080/"
        },
        "id": "CH2Jbic8q037",
        "outputId": "6dcd52df-ce9d-4776-fe77-7d51a0ce4321"
      },
      "execution_count": 24,
      "outputs": [
        {
          "output_type": "stream",
          "name": "stdout",
          "text": [
            "[[0.06 0.24]\n",
            " [0.038400000000000004 0.043199999999999995]\n",
            " [0.01344 0.0025919999999999997]]\n"
          ]
        }
      ]
    },
    {
      "cell_type": "code",
      "source": [
        "#parallel forward viterbi\n",
        "def parallel_backward_viterbi_init_last(model):\n",
        "    psi = tf.ones_like(model.transition_matrix) #step 7 in algorithm 1\n",
        "    return psi\n",
        "\n",
        "def parallel_backward_viterbi_init_rest(model, y):\n",
        "    tmp = tf.gather(tf.transpose(model.observation_matrix), y, axis=0) #get all rows of observation_matrix with y index\n",
        "    psi = tf.expand_dims(tmp, 1) * tf.expand_dims(model.transition_matrix, 0) #step 9 in algorithm 1\n",
        "    return psi\n",
        "\n",
        "def parallel_backward_viterbi_init(model, y):\n",
        "    last_elem = parallel_backward_viterbi_init_last(model)\n",
        "    rest_elems = parallel_backward_viterbi_init_rest(model, y[1:])\n",
        "    akT = tf.concat([rest_elems, tf.expand_dims(last_elem, 0)], axis=0) \n",
        "    return akT\n",
        "\n",
        "def parallel_backward_viterbi(model, y,  max_parallel=100000):\n",
        "    initial_elements = parallel_backward_viterbi_init(model, y)\n",
        "    reversed_elements = tf.reverse(initial_elements, axis=[0])\n",
        "    final_elements = tfp.math.scan_associative(lambda aij, ajk: tf.reduce_max(tf.expand_dims(aij, 1) * tf.expand_dims(ajk, -1), axis=2), \n",
        "                                               reversed_elements, max_num_levels=math.ceil(math.log2(max_parallel)))\n",
        "    final_elements = tf.reverse(final_elements, axis=[0])\n",
        "    return final_elements[:, :, 0]\n",
        "\n",
        "tf.print(parallel_backward_viterbi(HMM(), HMM().observation_sequence))"
      ],
      "metadata": {
        "colab": {
          "base_uri": "https://localhost:8080/"
        },
        "id": "qcCKguZP39KA",
        "outputId": "b5fa422a-0804-4967-e5be-2f25e92b9524"
      },
      "execution_count": 25,
      "outputs": [
        {
          "output_type": "stream",
          "name": "stdout",
          "text": [
            "[[0.09799999999999999 0.056000000000000008]\n",
            " [0.35 0.2]\n",
            " [1 1]]\n"
          ]
        }
      ]
    },
    {
      "cell_type": "code",
      "source": [
        "#parallel forward-backward viterbi\n",
        "def parallel_potential_viterbi(model, y, max_parallel=100000):\n",
        "    vlist = parallel_forward_viterbi(model, y, max_parallel)\n",
        "    wlist = parallel_backward_viterbi(model, y, max_parallel)\n",
        "    xmap = tf.squeeze(tf.math.argmax(vlist * wlist, axis=1))\n",
        "    return xmap\n",
        "\n",
        "tf.print(parallel_potential_viterbi(HMM(), HMM().observation_sequence))"
      ],
      "metadata": {
        "colab": {
          "base_uri": "https://localhost:8080/"
        },
        "id": "V92iuH8z5D7n",
        "outputId": "68a8ef4e-88a2-44df-8b49-f763b2780f37"
      },
      "execution_count": 26,
      "outputs": [
        {
          "output_type": "stream",
          "name": "stdout",
          "text": [
            "[1 0 0]\n"
          ]
        }
      ]
    },
    {
      "cell_type": "code",
      "source": [
        "with tf.device('/CPU:0'):\n",
        "    xmap_parallel = parallel_potential_viterbi(HMM(), Y_algo4, max_parallel=100000)\n",
        "    vlist_parallel = parallel_forward_viterbi(HMM(), Y_algo4)\n",
        "    print('Different xmap between parallel and classical viterbi: ', np.abs(xmap_parallel - classical_xmap).max())\n",
        "    print('Different Vlist between parallel and classical viterbi: ', np.abs(vlist_parallel - classical_V_list).max())"
      ],
      "metadata": {
        "colab": {
          "base_uri": "https://localhost:8080/"
        },
        "id": "M6-pbv3G7A8t",
        "outputId": "c42686f7-da3c-45e6-829a-d9b5df040040"
      },
      "execution_count": 27,
      "outputs": [
        {
          "output_type": "stream",
          "name": "stdout",
          "text": [
            "Different xmap between parallel and classical viterbi:  0\n",
            "Different Vlist between parallel and classical viterbi:  1.3552527156068805e-20\n"
          ]
        }
      ]
    },
    {
      "cell_type": "markdown",
      "source": [
        "#Run algorithm 5 with the example in the slide"
      ],
      "metadata": {
        "id": "P_tg4mOY5LvR"
      }
    },
    {
      "cell_type": "code",
      "source": [
        "print('xmap:', parallel_potential_viterbi(HMM_example_algo4(), HMM_example_algo4().observation_sequence, max_parallel=100000))\n",
        "print('vlist:', parallel_forward_viterbi(HMM_example_algo4(), HMM_example_algo4().observation_sequence))"
      ],
      "metadata": {
        "colab": {
          "base_uri": "https://localhost:8080/"
        },
        "id": "NG0NUgmV5LWA",
        "outputId": "bd0f9292-4637-42a3-a734-a98a21a9f691"
      },
      "execution_count": 28,
      "outputs": [
        {
          "output_type": "stream",
          "name": "stdout",
          "text": [
            "xmap: tf.Tensor([0 1], shape=(2,), dtype=int64)\n",
            "vlist: tf.Tensor(\n",
            "[[0.45  0.15 ]\n",
            " [0.027 0.126]], shape=(2, 2), dtype=float64)\n"
          ]
        }
      ]
    },
    {
      "cell_type": "markdown",
      "source": [
        "#Implement classical viterbi algorithm 4 based on max-product"
      ],
      "metadata": {
        "id": "RJv1BxkX9u2f"
      }
    },
    {
      "cell_type": "code",
      "source": [
        "def max_product_viterbi(model, y):\n",
        "    V_list = np.zeros((model.transition_matrix.shape[0], len(y)))\n",
        "    #forward step\n",
        "    V_list[:, 0] =  model.observation_matrix[:, y[0]] * model.prior #k = 1 -> V1(x1) = ψ1(x1), equation (28) and step 2 in algo 4\n",
        "    for k in range(1, len(y)):\n",
        "        psi = model.observation_matrix[np.newaxis, :, y[k]].T * model.transition_matrix.T\n",
        "        V_list[:, k] = np.max(V_list[:, k - 1] * psi, 1)\n",
        "    #backward step\n",
        "    W_list = V_list.copy()\n",
        "    W_list[:, -1] = np.ones(model.transition_matrix.shape[0])\n",
        "    for k in reversed(range(len(y) - 1)):\n",
        "        psi = model.observation_matrix[np.newaxis, :, y[k + 1]] * model.transition_matrix\n",
        "        W_list[:, k] = np.max(W_list[:, k + 1] * psi, 1)\n",
        "    V_list = V_list.T\n",
        "    W_list = W_list.T\n",
        "    xmap = [np.argmax(V_list[k] * W_list[k]) for k in range(len(y))]\n",
        "    return xmap, V_list, W_list\n",
        "max_product_xmap, max_product_vlist, max_product_wlist = max_product_viterbi(HMM(), HMM().observation_sequence)\n",
        "print(str(max_product_xmap) + '\\n')\n",
        "print(str(max_product_vlist) + '\\n')\n",
        "print(max_product_wlist)"
      ],
      "metadata": {
        "colab": {
          "base_uri": "https://localhost:8080/"
        },
        "id": "Ea5pXDZo9uMh",
        "outputId": "48d1f148-442c-484f-902e-e643c43b798f"
      },
      "execution_count": 29,
      "outputs": [
        {
          "output_type": "stream",
          "name": "stdout",
          "text": [
            "[1, 0, 0]\n",
            "\n",
            "[[0.06     0.24    ]\n",
            " [0.0384   0.0432  ]\n",
            " [0.01344  0.002592]]\n",
            "\n",
            "[[0.098 0.056]\n",
            " [0.35  0.2  ]\n",
            " [1.    1.   ]]\n"
          ]
        }
      ]
    },
    {
      "cell_type": "markdown",
      "source": [
        "#Compare max-product viterbi with classical viterbi"
      ],
      "metadata": {
        "id": "JcYQvcjlPMPK"
      }
    },
    {
      "cell_type": "code",
      "source": [
        "cmp_max_product_xmap, cmp_max_product_vlist, cmp_max_product_wlist = max_product_viterbi(HMM(), Y_algo4)\n",
        "print('Difference xmap between classical and max-product viterbi: ', max([abs(a - b) for a, b in zip(classical_xmap, cmp_max_product_xmap)]))\n",
        "print('Difference vlist between classical and max-product viterbi: ', np.abs(classical_V_list, cmp_max_product_vlist).max())"
      ],
      "metadata": {
        "colab": {
          "base_uri": "https://localhost:8080/"
        },
        "id": "_Oz7U8JeO3RP",
        "outputId": "ee12ac2c-5207-46c7-9752-b22c10014e69"
      },
      "execution_count": 30,
      "outputs": [
        {
          "output_type": "stream",
          "name": "stdout",
          "text": [
            "Difference xmap between classical and max-product viterbi:  0\n",
            "Difference vlist between classical and max-product viterbi:  0.3\n"
          ]
        }
      ]
    }
  ]
}